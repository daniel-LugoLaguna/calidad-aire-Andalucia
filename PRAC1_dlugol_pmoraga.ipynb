{
 "cells": [
  {
   "cell_type": "code",
   "execution_count": 2,
   "metadata": {},
   "outputs": [],
   "source": [
    "import requests\n",
    "from bs4 import BeautifulSoup\n",
    "import pandas as pd\n",
    "import numpy as np\n",
    "import math\n",
    "from itertools import zip_longest"
   ]
  },
  {
   "cell_type": "markdown",
   "metadata": {},
   "source": [
    "El objetivo de este proyecto es recopilar un histórico de datos de mediciones de calidad del aire en Andalucía. Para construir este histórico, se partirá de los informes generados por la Junta de Andalucía. Los informes se presentan de forma diaria. La Url se modifica para mostrar los datos de un día concreto."
   ]
  },
  {
   "cell_type": "code",
   "execution_count": 3,
   "metadata": {},
   "outputs": [],
   "source": [
    "URL = 'http://www.juntadeandalucia.es/medioambiente/atmosfera/informes_siva/mar21/nse210315.htm'\n",
    "page = requests.get(URL)\n",
    "\n",
    "#Función creada para reorganizar la lista de medidas dividiéndola en bloques en función de la longitud de su cabecera\n",
    "def grouper(n, it_list, padValue=None):\n",
    "    \"\"\" n -> nºcolumnas por fila\n",
    "        it_list -> lista sobre la que iterar\n",
    "        padValue -> valor por defecto\n",
    "    \"\"\"\n",
    "    return zip_longest(*[iter(it_list)]*n, fillvalue=padValue)\n",
    "\n",
    "status_code = page.status_code\n",
    "# Comprobamos que la petición nos devuelve un Status Code = 200\n",
    "if status_code == 200:\n",
    "    soup = BeautifulSoup(page.content, 'html.parser')"
   ]
  },
  {
   "cell_type": "markdown",
   "metadata": {},
   "source": [
    "Para alcanzar el objetivo, se creará un dataframe que recopile primero los datos de la estación y localización y posteriormente los datos de las mediciones. El principal problema, es que las tablas presentes en el documento no tienen identificador, y no todas las tablas tienen información numérica de mediciones, algunas tablas son solo cabeceras con la localización de las medidas tomadas en la tabla siguiente. \n",
    "\n",
    "Se creará en primer lugar una tabla paramétrica con todos los datos de localización presentes en el informe para un día concreto."
   ]
  },
  {
   "cell_type": "code",
   "execution_count": 4,
   "metadata": {},
   "outputs": [],
   "source": [
    "tables = soup.findAll(\"table\")\n",
    "l_province = list()\n",
    "l_municipio = list()\n",
    "l_station = list()\n",
    "l_dir = list()"
   ]
  },
  {
   "cell_type": "markdown",
   "metadata": {},
   "source": [
    "Con lo anterior tenemos una lista de tablas de con la información de localización, necesitamos recopilar esta información en una vector para insertarlo en la fila de cada tabla."
   ]
  },
  {
   "cell_type": "code",
   "execution_count": 5,
   "metadata": {},
   "outputs": [],
   "source": [
    "#Iteramos por todas las tablas:\n",
    "#Índice para iterar por las filas del dataframe de localización\n",
    "j = 0\n",
    "#Inicialización del esquema del dataframe final\n",
    "df_final = pd.DataFrame({ 'FECHA-HORA': [],'SO2': [],'PART': [], 'NO2': [], 'CO': [], 'O3': [], 'SH2': [],\n",
    "                         'Provincia': [], 'Municipio': [], 'Estacion': [], 'Direccion': []})\n",
    "for table in tables:\n",
    "    tabla_measures = list()\n",
    "    #Se ha utilizado la palabra clave provincia para filtrar\n",
    "    if table.text.startswith('Provincia'):\n",
    "        indice_prov = table.text.index('Provincia')\n",
    "        indice_mun = table.text.index('Municipio')\n",
    "        indice_est = table.text.index('Estacion')\n",
    "        indice_dir = table.text.index('Direccion')\n",
    "        l_province.append(table.text[indice_prov+9:indice_mun])\n",
    "        l_municipio.append(table.text[indice_mun+9:indice_est])\n",
    "        l_station.append(table.text[indice_est+8:indice_dir])\n",
    "        l_dir.append(table.text[indice_dir+9:])\n",
    "\n",
    "        #Variable de control que indica que tabla se está recorriendo en dicha iteración, de localización (1) o de mediciones (0)\n",
    "        #Esto permite ir incrementando el índice para la tabla paramétrica de provincias\n",
    "        ind_tabla_prov = 1\n",
    "\n",
    "    elif not table.text.startswith('RED DE VIGILANCIA'):\n",
    "        l_cab = list()\n",
    "        table_Cabecera = table.find_all('td', {'class': 'CabTabla'})\n",
    "        for cab in table_Cabecera:\n",
    "            l_cab.append(cab.text)\n",
    "\n",
    "        measures_tr = table.find_all('tr')\n",
    "        measures = list()\n",
    "        for tr in measures_tr:\n",
    "            measures_td = tr.find_all('td')\n",
    "            for td in measures_td:\n",
    "                if td.text not in ('FECHA-HORA', 'SO2', 'PART', 'NO2', 'CO', 'O3', 'SH2') and not td.text.startswith('\\nNota:'):\n",
    "                    measures.append(td.text)\n",
    "        \n",
    "        if len(l_cab) != 0:\n",
    "            tabla_measures = list([l_cab])\n",
    "            tabla_measures+=list(grouper(len(l_cab), measures, math.ceil(len(measures)/len(l_cab))))\n",
    "            df_measures = pd.DataFrame(tabla_measures[1:],columns=tabla_measures[0])\n",
    "            \n",
    "        df_loc = pd.DataFrame({'Provincia': l_province, 'Municipio': l_municipio, 'Estacion': l_station, 'Direccion': l_dir})\n",
    "\n",
    "        #Si el índice de la lista no ha llegado a 12 (nºtablas de la URL, habrá que cambiarlo para generalizar) o no es la primera\n",
    "        #tabla de provincia, se crea un df intermedio con la posición de la paramétrica correspondiente. Se replica la fila\n",
    "        #recogida tantas veces como filas tenga el dataframe de medidas intermedio del paso anterior\n",
    "        if l_province and j < 12:\n",
    "            df_loc_iter = pd.DataFrame(np.repeat(pd.DataFrame({'Provincia': l_province[j],\n",
    "                                    'Municipio': l_municipio[j],\n",
    "                                    'Estacion': l_station[j],\n",
    "                                    'Direccion': l_dir[j]},index=[0]).values,len(df_measures),axis=0),columns = ['Provincia','Municipio',\n",
    "                                                                                                       'Estacion','Direccion'])\n",
    "            #Se concatenan los dos df intermedios de medidas y localizaciones para la presente iteración\n",
    "            #Se añaden las filas al dataframe final con toda la información\n",
    "            df_iter = pd.concat((df_measures,df_loc_iter), axis = 1)\n",
    "            df_final = df_final.append(df_iter,sort=True)\n",
    "            #Si se ha recorrido tabla de provincia en el paso anterior, se incrementa +1 el indicador\n",
    "            if ind_tabla_prov == 1:\n",
    "                j = j + 1\n",
    "            #Variable de control de tabla de provincia. Dado que se ha recorrido una tabla de medidas, se pasa el indicador a 0\n",
    "            ind_tabla_prov = 0\n",
    "    \n",
    "    else:\n",
    "        print(\"Status code %d\" % status_code)\n",
    "    "
   ]
  },
  {
   "cell_type": "code",
   "execution_count": 6,
   "metadata": {
    "scrolled": true
   },
   "outputs": [
    {
     "output_type": "execute_result",
     "data": {
      "text/plain": [
       "   index Provincia Municipio        Direccion   Estacion      FECHA-HORA   CO  \\\n",
       "0      0   SEVILLA   SEVILLA   Avd. ANDALUCIA    RANILLA  15/03/21-00:10  897   \n",
       "1      1   SEVILLA   SEVILLA   Avd. ANDALUCIA    RANILLA  15/03/21-00:20  877   \n",
       "2      2   SEVILLA   SEVILLA   Avd. ANDALUCIA    RANILLA  15/03/21-00:30  871   \n",
       "3      3   SEVILLA   SEVILLA   Avd. ANDALUCIA    RANILLA  15/03/21-00:40  886   \n",
       "4      4   SEVILLA   SEVILLA   Avd. ANDALUCIA    RANILLA  15/03/21-00:50  905   \n",
       "\n",
       "  NO2   O3 PART SO2  SH2  \n",
       "0  17  NaN  NaN   4  NaN  \n",
       "1  12  NaN  NaN   4  NaN  \n",
       "2  11  NaN  NaN   4  NaN  \n",
       "3  11  NaN  NaN   4  NaN  \n",
       "4  12  NaN  NaN   4  NaN  "
      ],
      "text/html": "<div>\n<style scoped>\n    .dataframe tbody tr th:only-of-type {\n        vertical-align: middle;\n    }\n\n    .dataframe tbody tr th {\n        vertical-align: top;\n    }\n\n    .dataframe thead th {\n        text-align: right;\n    }\n</style>\n<table border=\"1\" class=\"dataframe\">\n  <thead>\n    <tr style=\"text-align: right;\">\n      <th></th>\n      <th>index</th>\n      <th>Provincia</th>\n      <th>Municipio</th>\n      <th>Direccion</th>\n      <th>Estacion</th>\n      <th>FECHA-HORA</th>\n      <th>CO</th>\n      <th>NO2</th>\n      <th>O3</th>\n      <th>PART</th>\n      <th>SO2</th>\n      <th>SH2</th>\n    </tr>\n  </thead>\n  <tbody>\n    <tr>\n      <th>0</th>\n      <td>0</td>\n      <td>SEVILLA</td>\n      <td>SEVILLA</td>\n      <td>Avd. ANDALUCIA</td>\n      <td>RANILLA</td>\n      <td>15/03/21-00:10</td>\n      <td>897</td>\n      <td>17</td>\n      <td>NaN</td>\n      <td>NaN</td>\n      <td>4</td>\n      <td>NaN</td>\n    </tr>\n    <tr>\n      <th>1</th>\n      <td>1</td>\n      <td>SEVILLA</td>\n      <td>SEVILLA</td>\n      <td>Avd. ANDALUCIA</td>\n      <td>RANILLA</td>\n      <td>15/03/21-00:20</td>\n      <td>877</td>\n      <td>12</td>\n      <td>NaN</td>\n      <td>NaN</td>\n      <td>4</td>\n      <td>NaN</td>\n    </tr>\n    <tr>\n      <th>2</th>\n      <td>2</td>\n      <td>SEVILLA</td>\n      <td>SEVILLA</td>\n      <td>Avd. ANDALUCIA</td>\n      <td>RANILLA</td>\n      <td>15/03/21-00:30</td>\n      <td>871</td>\n      <td>11</td>\n      <td>NaN</td>\n      <td>NaN</td>\n      <td>4</td>\n      <td>NaN</td>\n    </tr>\n    <tr>\n      <th>3</th>\n      <td>3</td>\n      <td>SEVILLA</td>\n      <td>SEVILLA</td>\n      <td>Avd. ANDALUCIA</td>\n      <td>RANILLA</td>\n      <td>15/03/21-00:40</td>\n      <td>886</td>\n      <td>11</td>\n      <td>NaN</td>\n      <td>NaN</td>\n      <td>4</td>\n      <td>NaN</td>\n    </tr>\n    <tr>\n      <th>4</th>\n      <td>4</td>\n      <td>SEVILLA</td>\n      <td>SEVILLA</td>\n      <td>Avd. ANDALUCIA</td>\n      <td>RANILLA</td>\n      <td>15/03/21-00:50</td>\n      <td>905</td>\n      <td>12</td>\n      <td>NaN</td>\n      <td>NaN</td>\n      <td>4</td>\n      <td>NaN</td>\n    </tr>\n  </tbody>\n</table>\n</div>"
     },
     "metadata": {},
     "execution_count": 6
    }
   ],
   "source": [
    "df_final = df_final[['Provincia', 'Municipio',\n",
    "                     'Direccion', 'Estacion','FECHA-HORA','CO','NO2','O3','PART','SO2','SH2']].reset_index()\n",
    "df_final.head()"
   ]
  },
  {
   "cell_type": "code",
   "execution_count": 17,
   "metadata": {},
   "outputs": [],
   "source": [
    "df_final.to_csv('AirQualityAndalusia.csv', index = False, header=True,encoding='utf-8-sig',sep=';')"
   ]
  }
 ],
 "metadata": {
  "kernelspec": {
   "name": "python3",
   "display_name": "Python 3.9.2 64-bit",
   "metadata": {
    "interpreter": {
     "hash": "dc3ed4a2de3c1116da98ab5f2b5f7991e93d17ed1f30b450c1bebbe4030ecc78"
    }
   }
  },
  "language_info": {
   "codemirror_mode": {
    "name": "ipython",
    "version": 3
   },
   "file_extension": ".py",
   "mimetype": "text/x-python",
   "name": "python",
   "nbconvert_exporter": "python",
   "pygments_lexer": "ipython3",
   "version": "3.9.2-final"
  }
 },
 "nbformat": 4,
 "nbformat_minor": 2
}